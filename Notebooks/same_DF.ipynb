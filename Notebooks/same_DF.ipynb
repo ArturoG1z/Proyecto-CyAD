{
 "cells": [
  {
   "cell_type": "code",
   "execution_count": 2,
   "metadata": {},
   "outputs": [
    {
     "name": "stdout",
     "output_type": "stream",
     "text": [
      "True\n"
     ]
    }
   ],
   "source": [
    "# verficar si dos dataframes son iguales\n",
    "\n",
    "import pandas as pd\n",
    "\n",
    "path1 = '../Results/a-n.xlsx'\n",
    "path2 = '../Results/02-clusters-previo-imputacion.xlsx'\n",
    "\n",
    "df1 = pd.read_excel(path1)\n",
    "df2 = pd.read_excel(path2)\n",
    "\n",
    "print(df1.equals(df2))\n",
    "\n"
   ]
  }
 ],
 "metadata": {
  "kernelspec": {
   "display_name": "Python 3",
   "language": "python",
   "name": "python3"
  },
  "language_info": {
   "codemirror_mode": {
    "name": "ipython",
    "version": 3
   },
   "file_extension": ".py",
   "mimetype": "text/x-python",
   "name": "python",
   "nbconvert_exporter": "python",
   "pygments_lexer": "ipython3",
   "version": "3.11.1"
  }
 },
 "nbformat": 4,
 "nbformat_minor": 2
}
