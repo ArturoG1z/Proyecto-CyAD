{
 "cells": [
  {
   "cell_type": "code",
   "execution_count": 9,
   "metadata": {},
   "outputs": [
    {
     "name": "stdout",
     "output_type": "stream",
     "text": [
      "True\n"
     ]
    }
   ],
   "source": [
    "# verficar si dos dataframes son iguales\n",
    "\n",
    "import pandas as pd\n",
    "\n",
    "path1 = '../Results/04-clusters-limpio-con-categoricos/clusters.xlsx'\n",
    "path2 = '../Results/04_clusters.xlsx'\n",
    "\n",
    "df1 = pd.read_excel(path1)\n",
    "df2 = pd.read_excel(path2)\n",
    "\n",
    "print(df1.equals(df2))\n"
   ]
  },
  {
   "cell_type": "code",
   "execution_count": null,
   "metadata": {},
   "outputs": [],
   "source": []
  }
 ],
 "metadata": {
  "kernelspec": {
   "display_name": "Python 3",
   "language": "python",
   "name": "python3"
  },
  "language_info": {
   "codemirror_mode": {
    "name": "ipython",
    "version": 3
   },
   "file_extension": ".py",
   "mimetype": "text/x-python",
   "name": "python",
   "nbconvert_exporter": "python",
   "pygments_lexer": "ipython3",
   "version": "3.11.1"
  }
 },
 "nbformat": 4,
 "nbformat_minor": 2
}
