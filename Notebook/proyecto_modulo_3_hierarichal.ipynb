{
  "cells": [
    {
      "cell_type": "markdown",
      "metadata": {
        "id": "3YHscWfAZrRY"
      },
      "source": [
        "# Proyecto Modulo 3\n"
      ]
    },
    {
      "cell_type": "markdown",
      "metadata": {
        "id": "EwjNqGquJVhG"
      },
      "source": [
        "<a href=\"https://colab.research.google.com/github/ArturoG1z/Proyecto-Modulo-3-CyAD/blob/main/Notebook/proyecto_modulo_3.ipynb\" target=\"_parent\"><img src=\"https://colab.research.google.com/assets/colab-badge.svg\" alt=\"Open In Colab\"/></a>"
      ]
    },
    {
      "cell_type": "code",
      "execution_count": null,
      "metadata": {
        "colab": {
          "base_uri": "https://localhost:8080/"
        },
        "id": "noUDRmg8Yfiy",
        "outputId": "21a08c04-9da1-4427-a0f6-b16a013777f7"
      },
      "outputs": [],
      "source": [
        "# from google.colab import drive\n",
        "# drive.mount('/content/drive')"
      ]
    },
    {
      "cell_type": "markdown",
      "metadata": {
        "id": "Sz1GkordfoyJ"
      },
      "source": [
        "***PENDIENTE:*** Agregar descripción pequeña del problema del dataset y del objetivo\n"
      ]
    },
    {
      "cell_type": "code",
      "execution_count": null,
      "metadata": {
        "id": "fmWj5S-Lazre"
      },
      "outputs": [],
      "source": [
        "import pandas as pd\n",
        "import cufflinks as cf\n",
        "# from IPython.display import display\n",
        "cf.set_config_file(sharing='public', theme='pearl', offline=True)\n",
        "import numpy as np\n",
        "import matplotlib.pyplot as plt\n",
        "from scipy.cluster.hierarchy import dendrogram, linkage, fcluster\n",
        "from sklearn.preprocessing import StandardScaler\n",
        "from sklearn.decomposition import PCA\n",
        "# ruta = '/content/drive/MyDrive/Colab Notebooks/PROYECTO/data set con color.xlsx'\n",
        "# ruta = './data set Proyecto.xlsx'\n",
        "ruta = './SEDUCA-2023B.xlsx'\n",
        "df_original = pd.read_excel(ruta)"
      ]
    },
    {
      "cell_type": "code",
      "execution_count": null,
      "metadata": {
        "id": "ptuG2BJ7bY-P"
      },
      "outputs": [],
      "source": [
        "df_original.head()"
      ]
    },
    {
      "cell_type": "code",
      "execution_count": null,
      "metadata": {
        "colab": {
          "base_uri": "https://localhost:8080/"
        },
        "id": "gcm5COMoZd0R",
        "outputId": "be560bde-6e31-4626-cb3c-822144e9efdd"
      },
      "outputs": [],
      "source": [
        "df_original.shape"
      ]
    },
    {
      "cell_type": "markdown",
      "metadata": {
        "id": "3_px1kWNfZp1"
      },
      "source": [
        "## Limpieza de los datos"
      ]
    },
    {
      "cell_type": "markdown",
      "metadata": {},
      "source": [
        "### Eliminar columnas innecesarias"
      ]
    },
    {
      "cell_type": "code",
      "execution_count": null,
      "metadata": {},
      "outputs": [],
      "source": [
        "# remove last 6 columns and first column\n",
        "df_original = df_original.iloc[:, :-6]\n",
        "df_original = df_original.iloc[:, 1:]"
      ]
    },
    {
      "cell_type": "code",
      "execution_count": null,
      "metadata": {},
      "outputs": [],
      "source": [
        "df_original.dtypes"
      ]
    },
    {
      "cell_type": "code",
      "execution_count": null,
      "metadata": {},
      "outputs": [],
      "source": [
        "quitar = [\n",
        "  'Asesor',\n",
        "  'Bloque',\n",
        "  'Grupo',\n",
        "  'Porcentaje-Eficiencia-Terminal',\n",
        "]\n",
        "\n",
        "#print(columnas)\n",
        "df = df_original.drop(quitar, axis=1)\n",
        "\n",
        "# Eliminando el ID de la materia en la columna 'Comunidad'\n",
        "df['Comunidad'] = df['Comunidad'].str[5:]\n",
        "df.head()"
      ]
    },
    {
      "cell_type": "markdown",
      "metadata": {},
      "source": [
        "### Separar columnas compuestas"
      ]
    },
    {
      "cell_type": "code",
      "execution_count": null,
      "metadata": {},
      "outputs": [],
      "source": [
        "# Reemplaza los valores NaN por 0\n",
        "df.fillna(0, inplace=True)"
      ]
    },
    {
      "cell_type": "code",
      "execution_count": null,
      "metadata": {},
      "outputs": [],
      "source": [
        "''' \n",
        "CONVERT TO INT\n",
        "1p_total_actividades_entregadas\n",
        "1p_total_actividades_entregadas\n",
        "1p_total_actividades_calificadas_tiempo\n",
        "2p_total_actividades_asignadas\n",
        "2p_total_actividades_evaluativas\n",
        "2p_total_actividades_calificadas\n",
        "2p_total_actividades_entregadas\n",
        "2p_total_actividades_calificadas_tiempo\n",
        "2p_porcentaje_aprobados\n",
        "total_actividades_calificadas\n",
        "trabajos_por_calificar\n",
        "Aprobados \n",
        "'''\n",
        "columnas = [\n",
        "  '1p_total_actividades_entregadas',\n",
        "  '1p_total_actividades_entregadas',\n",
        "  '1p_total_actividades_calificadas_tiempo',\n",
        "  '2p_total_actividades_asignadas',\n",
        "  '2p_total_actividades_evaluativas',\n",
        "  '2p_total_actividades_calificadas',\n",
        "  '2p_total_actividades_entregadas',\n",
        "  '2p_total_actividades_calificadas_tiempo',\n",
        "  '2p_porcentaje_aprobados',\n",
        "  'total_actividades_calificadas',\n",
        "  'trabajos_por_calificar',\n",
        "  'Aprobados',\n",
        "]\n",
        "\n",
        "for col in columnas:\n",
        "  df[col] = df[col].astype(int)"
      ]
    },
    {
      "cell_type": "code",
      "execution_count": null,
      "metadata": {},
      "outputs": [],
      "source": [
        "df.dtypes"
      ]
    },
    {
      "cell_type": "code",
      "execution_count": null,
      "metadata": {},
      "outputs": [],
      "source": [
        "# ver rango de valores de cada columna avoiding '<=' not supported between instances of 'str' and 'int' if its object and \n",
        "for col in df.columns:\n",
        "  if df[col].dtype == 'object':\n",
        "    print(col, df[col].unique())\n",
        "  else:\n",
        "    print(col, df[col].min(), df[col].max())"
      ]
    },
    {
      "cell_type": "code",
      "execution_count": null,
      "metadata": {},
      "outputs": [],
      "source": [
        "# ver valores de 1p_porcentaje_evidencias_calificadas_tiempo mayores a 1\n",
        "df[df['1p_porcentaje_evidencias_calificadas_tiempo'] > 1]\n",
        "# show this rows putting the column at first place on a new dataframe\n",
        "df[df['1p_porcentaje_evidencias_calificadas_tiempo'] > 1][['1p_porcentaje_evidencias_calificadas_tiempo'] + [col for col in df.columns if col != '1p_porcentaje_evidencias_calificadas_tiempo']]"
      ]
    },
    {
      "cell_type": "code",
      "execution_count": null,
      "metadata": {},
      "outputs": [],
      "source": [
        "# Dado que  tiene valores mayores a 1, se procede a dividir por 100 dichos valores que son mayores a 1 (df['1p_porcentaje_evidencias_calificadas_tiempo'] > 1)\n",
        "df['1p_porcentaje_evidencias_calificadas_tiempo'] = df['1p_porcentaje_evidencias_calificadas_tiempo'].apply(lambda x: x / 100 if x > 1 else x)"
      ]
    },
    {
      "cell_type": "code",
      "execution_count": null,
      "metadata": {},
      "outputs": [],
      "source": [
        "''' 1er_P_Ponderación-semanas\n",
        "2oP_Ponderación-semanas '''\n",
        "# if is not like this n/n like '100/2' or is int then convert to 0/0 \n",
        "df['1er_P_Ponderación-semanas'] = df['1er_P_Ponderación-semanas'].apply(lambda x: '0\\\\0' if type(x) == int or '/' not in x else x)\n",
        "df['2oP_Ponderación-semanas'] = df['2oP_Ponderación-semanas'].apply(lambda x: '0\\\\0' if type(x) == int or '/' not in x else x)\n"
      ]
    },
    {
      "cell_type": "code",
      "execution_count": null,
      "metadata": {
        "id": "Iw6ZgKP9cq0J"
      },
      "outputs": [],
      "source": [
        "# Separando la columna 1er_P_Ponderación-semanas en : 1erPonderacion Semana_1erP splited by '\\' and convert to int (nP_ponderacion y nP_semana) n es el parcial colocarlas en la misma posicion donde estaba la columna original\n",
        "\n",
        "df[['1p_Ponderacion', '1p_semana']] = df['1er_P_Ponderación-semanas'].str.split('\\\\', expand=True)\n",
        "df['1p_Ponderacion'] = df['1p_Ponderacion'].astype(int)\n",
        "df['1p_semana'] = df['1p_semana'].astype(int)\n",
        "df = df.drop('1er_P_Ponderación-semanas', axis=1)\n",
        "\n",
        "# Separando la columna 2oP_Ponderación-semanas\n",
        "df[['2p_Ponderacion', '2p_semana']] = df['2oP_Ponderación-semanas'].str.split('\\\\', expand=True)\n",
        "df['2p_Ponderacion'] = df['2p_Ponderacion'].astype(int)\n",
        "df['2p_semana'] = df['2p_semana'].astype(int)\n",
        "df = df.drop('2oP_Ponderación-semanas', axis=1)\n",
        "\n",
        "\n",
        "df.tail()\n",
        "#df.shape"
      ]
    },
    {
      "cell_type": "code",
      "execution_count": null,
      "metadata": {
        "colab": {
          "base_uri": "https://localhost:8080/"
        },
        "id": "QpS9_sjmj2WM",
        "outputId": "51b758e5-09cf-4291-98b3-39fc971636c4"
      },
      "outputs": [],
      "source": [
        "\n",
        "# Cuenta cuántos 0 hay en la columna\n",
        "numero_ceros_1er = df['1p_porcentaje_aprobados'].value_counts()[0]\n",
        "numero_ceros_2do = df['2p_porcentaje_aprobados'].value_counts()[0]\n",
        "\n",
        "# Imprime el número de 0\n",
        "print(numero_ceros_1er)\n",
        "\n",
        "# Imprime el número de 0\n",
        "print(numero_ceros_2do)\n"
      ]
    },
    {
      "cell_type": "markdown",
      "metadata": {},
      "source": [
        "### Obtener nuevas columnas calculadas"
      ]
    },
    {
      "cell_type": "code",
      "execution_count": null,
      "metadata": {},
      "outputs": [],
      "source": [
        "df.fillna(0, inplace=True)"
      ]
    },
    {
      "cell_type": "code",
      "execution_count": null,
      "metadata": {},
      "outputs": [],
      "source": [
        "# get how many 1er P_Actividades asignadas are diferent than 1er P_Actividades evaluativas\n",
        "# diferent_values = (numerical_df['1p_total_actividades_asignadas'] != numerical_df['1p_total_actividades_evaluativas']).sum()\n",
        "# print(diferent_values)\n",
        "\n",
        "# total de actividades asignadas = Alumnos * 1er P_Actividades asignadas \n",
        "# porcentaje as float64\n",
        "df['1p_total_actividades_asignadas'] = df['alumnos'] * df['1p_total_actividades_asignadas']\n",
        "df['2p_total_actividades_asignadas'] = df['alumnos'] * df['2p_total_actividades_asignadas']\n",
        "df['total_actividades_asignadas'] = df['1p_total_actividades_asignadas'] + df['2p_total_actividades_asignadas']"
      ]
    },
    {
      "cell_type": "code",
      "execution_count": null,
      "metadata": {},
      "outputs": [],
      "source": [
        "# porcentaje de actividades entregadas = 1p_total_actividades_entregadas / 1p_total_actividades_asignadas\n",
        "df['1p_porcentaje_actividades_entregadas'] = (df['1p_total_actividades_entregadas'] / df['1p_total_actividades_asignadas']) * 100\n",
        "df['2p_porcentaje_actividades_entregadas'] = (df['2p_total_actividades_entregadas'] / df['2p_total_actividades_asignadas']) * 100\n",
        "df['porcentaje_actividades_entregadas'] = ((df['1p_total_actividades_entregadas'] + df['2p_total_actividades_entregadas']) / df['total_actividades_asignadas']) * 100\n",
        "\n",
        "# change nan values to 0\n",
        "df.fillna(0, inplace=True)\n",
        "\n",
        "# replace inf values to 0\n",
        "df.replace([np.inf, -np.inf], 0, inplace=True)\n",
        "\n",
        "# convert each column to dtype float64\n",
        "df['1p_porcentaje_actividades_entregadas'] = df['1p_porcentaje_actividades_entregadas'].astype(float)\n",
        "df['2p_porcentaje_actividades_entregadas'] = df['2p_porcentaje_actividades_entregadas'].astype(float)\n",
        "df['porcentaje_actividades_entregadas'] = df['porcentaje_actividades_entregadas'].astype(float)"
      ]
    },
    {
      "cell_type": "code",
      "execution_count": null,
      "metadata": {},
      "outputs": [],
      "source": [
        "df.head()"
      ]
    },
    {
      "cell_type": "markdown",
      "metadata": {},
      "source": [
        "### Filas con valores nulos"
      ]
    },
    {
      "cell_type": "code",
      "execution_count": null,
      "metadata": {},
      "outputs": [],
      "source": [
        "# search for nan values in numerical_df\n",
        "nan_values = df.isna().sum()\n",
        "print(nan_values)"
      ]
    },
    {
      "cell_type": "code",
      "execution_count": null,
      "metadata": {},
      "outputs": [],
      "source": [
        "# search for 0 values in numerical_df\n",
        "zero_values = (df == 0).sum()\n",
        "print(zero_values)"
      ]
    },
    {
      "cell_type": "code",
      "execution_count": null,
      "metadata": {},
      "outputs": [],
      "source": [
        "# numero de registros que cumplen con la condicion de que todas las columnas que se pasan como parametro son 0\n",
        "def count_zeros(df, columns):\n",
        "  return (df[columns] == 0).all(axis=1).sum()\n"
      ]
    },
    {
      "cell_type": "code",
      "execution_count": null,
      "metadata": {},
      "outputs": [],
      "source": [
        "# num of rows with 0 in each column 1p_total_actividades_asignadas and 1p_porcentaje_aprobados\n",
        "count_zeros(df, ['1p_total_actividades_asignadas', '1p_porcentaje_aprobados', '2p_total_actividades_asignadas', '2p_porcentaje_aprobados'])"
      ]
    },
    {
      "cell_type": "code",
      "execution_count": null,
      "metadata": {},
      "outputs": [],
      "source": [
        "relacion_datos_vacios = pd.DataFrame({\n",
        "  '1p_con_actividades_asignadas_2p_sin_actividades_asignadas': df[(df['1p_total_actividades_asignadas'] == 0) & (df['2p_total_actividades_asignadas'] > 0)].shape[0],\n",
        "  '1p_sin_actividades_asignadas_2p_con_actividades_asignadas': df[(df['2p_total_actividades_asignadas'] == 0) & (df['1p_total_actividades_asignadas'] > 0)].shape[0],\n",
        "  '1p_sin_porcentaje_aprobados_2p_con_porcentaje_aprobados': df[(df['1p_porcentaje_aprobados'] == 0) & (df['2p_porcentaje_aprobados'] > 0)].shape[0],\n",
        "  '1p_con_porcentaje_aprobados_2p_sin_porcentaje_aprobados': df[(df['2p_porcentaje_aprobados'] == 0) & (df['1p_porcentaje_aprobados'] > 0)].shape[0],\n",
        "}, index=[0])\n",
        "\n",
        "display(relacion_datos_vacios)\n"
      ]
    },
    {
      "cell_type": "code",
      "execution_count": null,
      "metadata": {},
      "outputs": [],
      "source": [
        "((df['1p_total_actividades_asignadas'] == 0) & (df['1p_porcentaje_aprobados'] == 0) & (df['2p_total_actividades_asignadas'] == 0) & (df['2p_porcentaje_aprobados'] == 0)).sum()"
      ]
    },
    {
      "cell_type": "code",
      "execution_count": null,
      "metadata": {},
      "outputs": [],
      "source": [
        "# remove rows with 0 in ['1p_total_actividades_asignadas', '1p_porcentaje_aprobados', '2p_total_actividades_asignadas', '2p_porcentaje_aprobados']\n",
        "df = df[~((df['1p_total_actividades_asignadas'] == 0) & (df['1p_porcentaje_aprobados'] == 0) & (df['2p_total_actividades_asignadas'] == 0) & (df['2p_porcentaje_aprobados'] == 0))]"
      ]
    },
    {
      "cell_type": "code",
      "execution_count": null,
      "metadata": {},
      "outputs": [],
      "source": [
        "df.shape"
      ]
    },
    {
      "cell_type": "markdown",
      "metadata": {},
      "source": [
        "## Entrenar modelo\n"
      ]
    },
    {
      "cell_type": "code",
      "execution_count": null,
      "metadata": {},
      "outputs": [],
      "source": [
        "# Split df into categorical df and numerical df first 4 columns are categorical and the rest are numerical\n",
        "categorical_df = df.iloc[:, :4]\n",
        "numerical_df = df.iloc[:, 4:]"
      ]
    },
    {
      "cell_type": "code",
      "execution_count": null,
      "metadata": {},
      "outputs": [],
      "source": [
        "categorical_features = categorical_df.columns\n",
        "numerical_features = numerical_df.columns"
      ]
    },
    {
      "cell_type": "code",
      "execution_count": null,
      "metadata": {},
      "outputs": [],
      "source": [
        "import plotly.express as px\n",
        "\n",
        "# Standardize the data to have a mean of ~0 and a variance of 1\n",
        "X_std = StandardScaler().fit_transform(numerical_df)\n",
        "\n",
        "# Create a PCA instance: pca\n",
        "# pca = PCA(n_components=3)\n",
        "pca = PCA(n_components=2)\n",
        "principalComponents = pca.fit_transform(X_std)\n",
        "\n",
        "# Save components to a DataFrame\n",
        "# PCA_components = pd.DataFrame(principalComponents, columns=['pca1', 'pca2', 'pca3'])\n",
        "PCA_components = pd.DataFrame(principalComponents, columns=['pca1', 'pca2'])\n",
        "\n",
        "# df.head()\n",
        "\n",
        "# Concatenate the DataFrames\n",
        "df_final = pd.concat([PCA_components, df], axis=1)\n",
        "\n",
        "\n",
        "# using  dendrogram, linkage, fcluster \n",
        "# Calculate the linkage: mergings\n",
        "mergings = linkage(X_std, 'ward')\n",
        "\n",
        "# Plot the dendrogram, using varieties as labels\n",
        "plt.figure(figsize=(20, 10))\n",
        "dendrogram(\n",
        "  mergings,\n",
        "  leaf_rotation=90,\n",
        "  leaf_font_size=6,\n",
        ") \n",
        "plt.show()"
      ]
    },
    {
      "cell_type": "code",
      "execution_count": null,
      "metadata": {},
      "outputs": [],
      "source": [
        "clusters = fcluster(mergings, t=70, criterion='distance')"
      ]
    },
    {
      "cell_type": "code",
      "execution_count": null,
      "metadata": {},
      "outputs": [],
      "source": [
        "\n",
        "# Create a DataFrame with labels and species as columns: df\n",
        "df_final['cluster'] = 'Cluster ' + pd.Series(clusters).astype(str)\n",
        "df_final.head()\n",
        "\n",
        "# See cluster with pca\n",
        "\n",
        "# fig = px.scatter_3d(df_final, x='pca1', y='pca2', z='pca3', color='cluster')\n",
        "fig = px.scatter(df_final, x='pca1', y='pca2', color='cluster')\n",
        "# increase the graph size\n",
        "fig.update_layout(\n",
        "  title='Clusters',\n",
        "  scene=dict(\n",
        "      xaxis=dict(title='PCA 1'),\n",
        "      yaxis=dict(title='PCA 2'),\n",
        "      # zaxis=dict(title='PCA 3')\n",
        "  ),\n",
        "  margin=dict(l=0, r=0, b=0, t=0),\n",
        "  height=800,\n",
        "  width=800\n",
        ")\n",
        "fig.show()"
      ]
    },
    {
      "cell_type": "code",
      "execution_count": null,
      "metadata": {},
      "outputs": [],
      "source": [
        "df_final.dtypes"
      ]
    },
    {
      "cell_type": "code",
      "execution_count": null,
      "metadata": {},
      "outputs": [],
      "source": [
        "# now with df original wee have 3 clusters to interpret the data make 3 dataframes with each cluster  (df_final['cluster']) and see the mean of each cluster\n",
        "df_by_cluster = df_final.groupby(\"cluster\")\n",
        "df_by_cluster"
      ]
    },
    {
      "cell_type": "code",
      "execution_count": null,
      "metadata": {},
      "outputs": [],
      "source": [
        "# display total of each cluster\n",
        "for name, group in df_by_cluster:\n",
        "  print(name, group.shape)"
      ]
    },
    {
      "cell_type": "code",
      "execution_count": null,
      "metadata": {},
      "outputs": [],
      "source": [
        "\n",
        "# wee have 26 columns that are numerical from numerical_df\n",
        "\n",
        "fig = px.scatter(df_final, x='total_actividades_asignadas', y='porcentaje_actividades_entregadas', color='cluster')\n",
        "fig.show()\n",
        "for col in numerical_features:\n",
        "  fig = px.box(df_final, x='cluster', y=col)\n",
        "  # add the mean of each cluster for the column\n",
        "  fig.add_scatter(x=df_by_cluster[col].mean().index, y=df_by_cluster[col].mean().values, mode='markers', marker=dict(size=10, color='black'))\n",
        "  fig.show()\n",
        "  # imprime un grafico de barras con la media de cada columna por cluster en un solo grafico\n",
        "  # fig = px.bar(df_by_cluster[col].mean().reset_index(), x='cluster', y=col)\n",
        "  # fig.show()\n",
        "  \n",
        "  # y un histograma de la columna por cluster\n",
        "  # fig = px.histogram(df_final, x=col, color='cluster')\n",
        "  # fig.show()\n",
        "  \n",
        "\n"
      ]
    },
    {
      "cell_type": "code",
      "execution_count": null,
      "metadata": {},
      "outputs": [],
      "source": [
        "descriptions = {}\n",
        "\n",
        "# get statistics of each cluster\n",
        "for cluster, data in df_by_cluster:\n",
        "  print(cluster)\n",
        "  ## see graphics of each cluster\n",
        "  \"\"\" Con los siguientes datos de un data set sobre rendimiento de grupos de universidad en una plataforma educativa virtual\n",
        "\n",
        "  alumnos\n",
        "  total_actividades_asignadas\n",
        "  porcentaje_actividades_entregadas\n",
        "  1p_porcentaje_actividades_entregadas\n",
        "  2p_porcentaje_actividades_entregadas\n",
        "\n",
        "  1p_total_actividades_calificadas\n",
        "  1p_porcentaje_evidencias_calificadas_tiempo\n",
        "  1p_total_actividades_calificadas_tiempo\n",
        "\n",
        "  2p_total_actividades_calificadas\n",
        "  2p_porcentaje_evidencias_calificadas_tiempo\n",
        "  2p_total_actividades_calificadas_tiempo\n",
        "\n",
        "\n",
        "  1p_porcentaje_aprobados\n",
        "  2p_porcentaje_aprobados\n",
        "\n",
        "  correos_enviados\n",
        "  correos_recibidos\n",
        "\n",
        "  con los 3 clusters obtenidos que etiquetan a estos datos, como obtener grafico de barras de \n",
        "  \"\"\"\n",
        "  description = data.describe()\n",
        "  descriptions[cluster] = description\n",
        "  display(description)\n",
        "  print('\\n\\n')\n",
        "  # correlation matrix only with numerical_features\n",
        "  \n",
        "  cluster_numerical_df = data[numerical_features]\n",
        "  # correlation matrix\n",
        "  correlation_matrix = cluster_numerical_df.corr()\n",
        "\n",
        "  # plot correlation matrix with plotly\n",
        "  fig = px.imshow(correlation_matrix, title=f'Correlation matrix for cluster {cluster}')\n",
        "  # increase the graph size\n",
        "  fig.update_layout(\n",
        "    title=f'Correlation matrix for cluster {cluster}',\n",
        "    margin=dict(l=0, r=0, b=0, t=0),\n",
        "    height=1400,\n",
        "    width=1400\n",
        "  )\n",
        "  fig.show()\n",
        "\n",
        "  \n"
      ]
    },
    {
      "cell_type": "code",
      "execution_count": null,
      "metadata": {},
      "outputs": [],
      "source": [
        "# pass to excel the description of each cluster\n",
        "# description = data.describe()\n",
        "# descriptions[cluster] = description\n",
        "\n",
        "\n",
        "with pd.ExcelWriter(\"cluster_descriptions_hierarichal.xlsx\") as writer:\n",
        "  for cluster, description in descriptions.items():\n",
        "    description.to_excel(writer, sheet_name=cluster)"
      ]
    },
    {
      "cell_type": "code",
      "execution_count": null,
      "metadata": {},
      "outputs": [],
      "source": [
        "def scatter_by_category(df, x, y, category, title):\n",
        "  fig = px.scatter(df, x=x, y=y, color=category, title=title)\n",
        "  fig.show()\n",
        "\n",
        "def count_by_category(df, category, title):\n",
        "  fig = px.histogram(df, x=category, title=title)\n",
        "  fig.update_layout(\n",
        "    height=1200\n",
        "  )\n",
        "  fig.show()"
      ]
    },
    {
      "cell_type": "code",
      "execution_count": null,
      "metadata": {},
      "outputs": [],
      "source": [
        "# for each cluster see a scatter plot of the 2 first principal components and labaled by categorical features\n",
        "\n",
        "for cluster, data in df_by_cluster:\n",
        "  scatter_by_category(data, 'pca1', 'pca2', 'Comunidad', f'Comunidad {cluster}')\n",
        "  count_by_category(data, 'Comunidad', f'Comunidad {cluster}')\n",
        "\n",
        "for cluster, data in df_by_cluster:\n",
        "  scatter_by_category(data, 'pca1', 'pca2', 'carrera', f'Carrera {cluster}')\n",
        "  count_by_category(data, 'carrera', f'Carrera {cluster}')\n",
        "\n",
        "for cluster, data in df_by_cluster:\n",
        "  scatter_by_category(data, 'pca1', 'pca2', 'Espacio_Académico', f'Espacio Académico {cluster}')\n",
        "  count_by_category(data, 'Espacio_Académico', f'Espacio Académico {cluster}')"
      ]
    }
  ],
  "metadata": {
    "colab": {
      "provenance": []
    },
    "kernelspec": {
      "display_name": "Python 3",
      "name": "python3"
    },
    "language_info": {
      "codemirror_mode": {
        "name": "ipython",
        "version": 3
      },
      "file_extension": ".py",
      "mimetype": "text/x-python",
      "name": "python",
      "nbconvert_exporter": "python",
      "pygments_lexer": "ipython3",
      "version": "3.11.1"
    }
  },
  "nbformat": 4,
  "nbformat_minor": 0
}
