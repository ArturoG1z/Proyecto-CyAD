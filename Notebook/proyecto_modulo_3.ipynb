{
  "cells": [
    {
      "cell_type": "markdown",
      "metadata": {
        "id": "3YHscWfAZrRY"
      },
      "source": [
        "# Proyecto Modulo 3\n"
      ]
    },
    {
      "cell_type": "markdown",
      "metadata": {
        "id": "EwjNqGquJVhG"
      },
      "source": [
        "<a href=\"https://colab.research.google.com/github/ArturoG1z/Proyecto-Modulo-3-CyAD/blob/main/Notebook/proyecto_modulo_3.ipynb\" target=\"_parent\"><img src=\"https://colab.research.google.com/assets/colab-badge.svg\" alt=\"Open In Colab\"/></a>"
      ]
    },
    {
      "cell_type": "code",
      "source": [
        "from google.colab import drive\n",
        "drive.mount('/content/drive')"
      ],
      "metadata": {
        "id": "noUDRmg8Yfiy",
        "outputId": "21a08c04-9da1-4427-a0f6-b16a013777f7",
        "colab": {
          "base_uri": "https://localhost:8080/"
        }
      },
      "execution_count": 1,
      "outputs": [
        {
          "output_type": "stream",
          "name": "stdout",
          "text": [
            "Mounted at /content/drive\n"
          ]
        }
      ]
    },
    {
      "cell_type": "markdown",
      "metadata": {
        "id": "Sz1GkordfoyJ"
      },
      "source": [
        "***PENDIENTE:*** Agregar descripción pequeña del problema del dataset y del objetivo\n"
      ]
    },
    {
      "cell_type": "code",
      "execution_count": 50,
      "metadata": {
        "id": "fmWj5S-Lazre"
      },
      "outputs": [],
      "source": [
        "import pandas as pd\n",
        "ruta = '/content/drive/MyDrive/Colab Notebooks/PROYECTO/data set con color.xlsx'\n",
        "df = pd.read_excel(ruta)"
      ]
    },
    {
      "cell_type": "code",
      "execution_count": null,
      "metadata": {
        "id": "ptuG2BJ7bY-P"
      },
      "outputs": [],
      "source": [
        "df.head()"
      ]
    },
    {
      "cell_type": "code",
      "source": [
        "df.shape"
      ],
      "metadata": {
        "id": "gcm5COMoZd0R",
        "outputId": "be560bde-6e31-4626-cb3c-822144e9efdd",
        "colab": {
          "base_uri": "https://localhost:8080/"
        }
      },
      "execution_count": 51,
      "outputs": [
        {
          "output_type": "execute_result",
          "data": {
            "text/plain": [
              "(747, 41)"
            ]
          },
          "metadata": {},
          "execution_count": 51
        }
      ]
    },
    {
      "cell_type": "markdown",
      "source": [
        "### Limpieza de los datos"
      ],
      "metadata": {
        "id": "3_px1kWNfZp1"
      }
    },
    {
      "cell_type": "code",
      "execution_count": null,
      "metadata": {
        "id": "Iw6ZgKP9cq0J"
      },
      "outputs": [],
      "source": [
        "# Se eliminan columas/atributos despreciables\n",
        "columnas = df.columns[[0,3,6,7,31,32,35,36,37,38,39,40]]\n",
        "#print(columnas)\n",
        "df.drop(columnas, axis=1, inplace=True)\n",
        "\n",
        "# Eliminando el ID de la materia en la columna 'Comunidad'\n",
        "df['Comunidad'] = df['Comunidad'].str[5:]\n",
        "\n",
        "# Separando la columna 1er P_Ponderación\\semanas\n",
        "df[['1erPonderacion', 'Semana_1erP']] = df['1er P_Ponderación\\semanas'].str.split('\\\\', 1, expand=True)\n",
        "df = df.drop('1er P_Ponderación\\semanas', axis=1)\n",
        "\n",
        "# Separando la columna 2oP_Ponderación\\semanas\n",
        "df[['2daPonderacion', 'Semana_2daP']] = df['2oP_Ponderación\\semanas'].str.split('\\\\', 1, expand=True)\n",
        "df = df.drop('2oP_Ponderación\\semanas', axis=1)\n",
        "\n",
        "# Reemplaza los valores NaN por 0\n",
        "df.fillna(0, inplace=True)\n",
        "\n",
        "\n",
        "df.tail()\n",
        "#df.shape"
      ]
    },
    {
      "cell_type": "code",
      "source": [
        "\n",
        "# Cuenta cuántos 0 hay en la columna\n",
        "numero_ceros_1er = df['1er P_Porcentaje aprobados'].value_counts()[0]\n",
        "numero_ceros_2do = df['2oP_Porcentaje aprobados'].value_counts()[0]\n",
        "\n",
        "# Imprime el número de 0\n",
        "print(numero_ceros_1er)\n",
        "\n",
        "# Imprime el número de 0\n",
        "print(numero_ceros_2do)\n",
        "\n"
      ],
      "metadata": {
        "id": "QpS9_sjmj2WM",
        "outputId": "51b758e5-09cf-4291-98b3-39fc971636c4",
        "colab": {
          "base_uri": "https://localhost:8080/"
        }
      },
      "execution_count": 60,
      "outputs": [
        {
          "output_type": "stream",
          "name": "stdout",
          "text": [
            "360\n",
            "362\n"
          ]
        }
      ]
    }
  ],
  "metadata": {
    "colab": {
      "provenance": []
    },
    "kernelspec": {
      "display_name": "Python 3",
      "name": "python3"
    },
    "language_info": {
      "name": "python"
    }
  },
  "nbformat": 4,
  "nbformat_minor": 0
}